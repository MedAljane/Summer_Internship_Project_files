{
  "nbformat": 4,
  "nbformat_minor": 0,
  "metadata": {
    "colab": {
      "name": "coronas_numbers.ipynb",
      "provenance": [],
      "collapsed_sections": [],
      "include_colab_link": true
    },
    "kernelspec": {
      "display_name": "Python 3",
      "name": "python3"
    },
    "language_info": {
      "name": "python"
    }
  },
  "cells": [
    {
      "cell_type": "markdown",
      "metadata": {
        "id": "view-in-github",
        "colab_type": "text"
      },
      "source": [
        "<a href=\"https://colab.research.google.com/github/MedAljane/Stage_Project_files/blob/main/coronas_numbers.ipynb\" target=\"_parent\"><img src=\"https://colab.research.google.com/assets/colab-badge.svg\" alt=\"Open In Colab\"/></a>"
      ]
    },
    {
      "cell_type": "code",
      "metadata": {
        "colab": {
          "base_uri": "https://localhost:8080/"
        },
        "id": "jlFe_efvnXzH",
        "outputId": "d173ec3a-0a88-4675-e75c-a66cfd1dec9b"
      },
      "source": [
        "!pip install deep-translator"
      ],
      "execution_count": 1,
      "outputs": [
        {
          "output_type": "stream",
          "text": [
            "Collecting deep-translator\n",
            "  Downloading deep_translator-1.5.0-py2.py3-none-any.whl (29 kB)\n",
            "Requirement already satisfied: beautifulsoup4 in /usr/local/lib/python3.7/dist-packages (from deep-translator) (4.6.3)\n",
            "Requirement already satisfied: requests in /usr/local/lib/python3.7/dist-packages (from deep-translator) (2.23.0)\n",
            "Requirement already satisfied: click in /usr/local/lib/python3.7/dist-packages (from deep-translator) (7.1.2)\n",
            "Requirement already satisfied: certifi>=2017.4.17 in /usr/local/lib/python3.7/dist-packages (from requests->deep-translator) (2021.5.30)\n",
            "Requirement already satisfied: urllib3!=1.25.0,!=1.25.1,<1.26,>=1.21.1 in /usr/local/lib/python3.7/dist-packages (from requests->deep-translator) (1.24.3)\n",
            "Requirement already satisfied: chardet<4,>=3.0.2 in /usr/local/lib/python3.7/dist-packages (from requests->deep-translator) (3.0.4)\n",
            "Requirement already satisfied: idna<3,>=2.5 in /usr/local/lib/python3.7/dist-packages (from requests->deep-translator) (2.10)\n",
            "Installing collected packages: deep-translator\n",
            "Successfully installed deep-translator-1.5.0\n"
          ],
          "name": "stdout"
        }
      ]
    },
    {
      "cell_type": "code",
      "metadata": {
        "id": "czONEzqwy-V1"
      },
      "source": [
        "import requests\n",
        "import re\n",
        "import urllib.request\n",
        "from bs4 import BeautifulSoup\n",
        "from deep_translator import GoogleTranslator\n",
        "import json\n",
        "import pandas as pd\n",
        "from datetime import datetime"
      ],
      "execution_count": 2,
      "outputs": []
    },
    {
      "cell_type": "code",
      "metadata": {
        "id": "TI05mitMaFfO"
      },
      "source": [
        "today = datetime.today().strftime('%Y-%m-%d')"
      ],
      "execution_count": 3,
      "outputs": []
    },
    {
      "cell_type": "code",
      "metadata": {
        "id": "wnCgdNQraG60"
      },
      "source": [
        "#Getting available countries list for help\n",
        "countrieslinks = []\n",
        "links = []\n",
        "aTags = BeautifulSoup(requests.get(\"https://www.worldometers.info/coronavirus/#countries\").content, 'html.parser').find('table', {'id': 'main_table_countries_today'}).find('tbody').findAll('a', {'class': 'mt_a'})\n",
        "for a in aTags:\n",
        "  links.append(a['href'][a['href'].index('/')+1:-1])\n",
        "  countrieslinks.append(f\"Insert ==> {a['href'][a['href'].index('/')+1:-1]} <== for: {a.text}\")"
      ],
      "execution_count": 4,
      "outputs": []
    },
    {
      "cell_type": "code",
      "metadata": {
        "id": "0nK2y7TqaITW"
      },
      "source": [
        "#Getting the equivalent argument for each country to use in the GET request\n",
        "link_DataCountry = {}\n",
        "for counter, link in enumerate(links):\n",
        "  try:\n",
        "    tgt = BeautifulSoup(requests.get(\"https://www.worldometers.info/coronavirus/country/\"+link+\"/\").content, 'html.parser').find('a', {'class': 'load-more__btn'})\n",
        "    link_DataCountry[link] = tgt['data-country']\n",
        "    print(f\"({counter}/{len(links)}) ** {link} Done! moving to next...\")\n",
        "  except:\n",
        "    print(f\"({counter}/{len(links)}) ** {link} Not found! moving to next...\")"
      ],
      "execution_count": null,
      "outputs": []
    },
    {
      "cell_type": "code",
      "metadata": {
        "id": "0tHDu_3AnpFe"
      },
      "source": [
        "#Inputing the desired country and getting its latest cases\n",
        "paysTarget = input('Enter country name: ').lower()\n",
        "try:\n",
        "    soup = BeautifulSoup(requests.get(f\"https://www.worldometers.info/coronavirus/news-block/news_main_updates.php?fd=lm_{today}&country={link_DataCountry[paysTarget]}&days_count=14\").content, 'html.parser').findAll('button', {'class': 'btn btn-light date-btn'})\n",
        "    dates_En = []\n",
        "    cases_En = []\n",
        "    for date in soup:\n",
        "        c = date.find_next_sibling('div', {'class': 'newsdate_div'}).findChild('li', {'class': 'news_li'})\n",
        "        cases_En.append(c.text[:c.text.index('in')].strip())\n",
        "        dates_En.append(date.text.strip())    \n",
        "\n",
        "    new_cases_En = []\n",
        "    new_deaths_En = []\n",
        "\n",
        "    for e in cases_En:\n",
        "        if \"new cases\" in e and \"new deaths\" in e:\n",
        "            new_cases_En.append(e.split('and')[0].strip())\n",
        "            new_deaths_En.append(e.split('and')[1].strip())\n",
        "        elif \"new cases\" in e:\n",
        "            new_cases_En.append(e)\n",
        "            new_deaths_En.append(\"No new deaths\")\n",
        "        elif \"new deaths\" in e:\n",
        "            new_cases_En.append(\"No new cases\")\n",
        "            new_deaths_En.append(e)\n",
        "        else:\n",
        "            new_cases_En.append(\"No new cases\")\n",
        "            new_deaths_En.append(\"No new deaths\")\n",
        "\n",
        "    new_cases_Fr = [GoogleTranslator(source='en', target='fr').translate(e) for e in new_cases_En]\n",
        "    new_deaths_Fr = [GoogleTranslator(source='en', target='fr').translate(e) for e in new_deaths_En]\n",
        "    dates_Fr = [GoogleTranslator(source='en', target='fr').translate(e) for e in dates_En]\n",
        "\n",
        "    coronaDict_En = {\n",
        "        \"date\": dates_En,\n",
        "        \"new_cases\": new_cases_En,\n",
        "        \"new_deaths\": new_deaths_En\n",
        "    }\n",
        "    df_En = pd.DataFrame(coronaDict_En)\n",
        "    print(\"Anglais:\\n\", df_En)\n",
        "\n",
        "    coronaDict_Fr = {\n",
        "        \"date\": dates_Fr,\n",
        "        \"nouveaux_cas\": new_cases_Fr,\n",
        "        \"nouveaux_décès\": new_deaths_Fr\n",
        "    }\n",
        "    df_Fr = pd.DataFrame(coronaDict_Fr)\n",
        "    print(\"Francais:\\n\", df_Fr)\n",
        "\n",
        "except Exception as e:\n",
        "    print(e, '\\nCountry not in list!\\nTo know what to put check ==> countrieslinks <== variable!')"
      ],
      "execution_count": null,
      "outputs": []
    },
    {
      "cell_type": "code",
      "metadata": {
        "id": "SZN4YmCqcXZ8"
      },
      "source": [
        "#Exporter le resultat obtenu en tant que JSON\n",
        "\n",
        "df_Fr.to_json('coronaCases_Fr.json', orient='records', lines=True, force_ascii=False)\n",
        "df_En.to_json('coronaCases_En.json', orient='records', lines=True, force_ascii=False)\n",
        "\n",
        "\n",
        "#If you want to include the name of the country in the filename uncomment the following 2 lines and comment the previous 2\n",
        "\n",
        "#df_Fr.to_json(f'{paysTarget}_coronaCases_Fr.json', orient='records', lines=True, force_ascii=False)\n",
        "#df_En.to_json(f'{paysTarget}_coronaCases_En.json', orient='records', lines=True, force_ascii=False)"
      ],
      "execution_count": 8,
      "outputs": []
    },
    {
      "cell_type": "code",
      "metadata": {
        "colab": {
          "background_save": true
        },
        "id": "1OUv4IzuRMGh"
      },
      "source": [
        ""
      ],
      "execution_count": null,
      "outputs": []
    },
    {
      "cell_type": "code",
      "metadata": {
        "colab": {
          "background_save": true
        },
        "id": "3fqH8DxdVE55"
      },
      "source": [
        ""
      ],
      "execution_count": null,
      "outputs": []
    }
  ]
}