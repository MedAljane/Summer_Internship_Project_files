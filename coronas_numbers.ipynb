{
  "nbformat": 4,
  "nbformat_minor": 0,
  "metadata": {
    "colab": {
      "name": "coronas_numbers.ipynb",
      "provenance": [],
      "collapsed_sections": [],
      "include_colab_link": true
    },
    "kernelspec": {
      "display_name": "Python 3",
      "name": "python3"
    },
    "language_info": {
      "name": "python"
    }
  },
  "cells": [
    {
      "cell_type": "markdown",
      "metadata": {
        "id": "view-in-github",
        "colab_type": "text"
      },
      "source": [
        "<a href=\"https://colab.research.google.com/github/MedAljane/Stage_Project_files/blob/main/coronas_numbers.ipynb\" target=\"_parent\"><img src=\"https://colab.research.google.com/assets/colab-badge.svg\" alt=\"Open In Colab\"/></a>"
      ]
    },
    {
      "cell_type": "code",
      "metadata": {
        "colab": {
          "base_uri": "https://localhost:8080/"
        },
        "id": "jlFe_efvnXzH",
        "outputId": "0e4d2618-896a-4060-dba8-52293efde9fc"
      },
      "source": [
        "!pip install deep-translator"
      ],
      "execution_count": null,
      "outputs": [
        {
          "output_type": "stream",
          "text": [
            "Collecting deep-translator\n",
            "  Downloading deep_translator-1.5.0-py2.py3-none-any.whl (29 kB)\n",
            "Requirement already satisfied: requests in /usr/local/lib/python3.7/dist-packages (from deep-translator) (2.23.0)\n",
            "Requirement already satisfied: beautifulsoup4 in /usr/local/lib/python3.7/dist-packages (from deep-translator) (4.6.3)\n",
            "Requirement already satisfied: click in /usr/local/lib/python3.7/dist-packages (from deep-translator) (7.1.2)\n",
            "Requirement already satisfied: urllib3!=1.25.0,!=1.25.1,<1.26,>=1.21.1 in /usr/local/lib/python3.7/dist-packages (from requests->deep-translator) (1.24.3)\n",
            "Requirement already satisfied: certifi>=2017.4.17 in /usr/local/lib/python3.7/dist-packages (from requests->deep-translator) (2021.5.30)\n",
            "Requirement already satisfied: idna<3,>=2.5 in /usr/local/lib/python3.7/dist-packages (from requests->deep-translator) (2.10)\n",
            "Requirement already satisfied: chardet<4,>=3.0.2 in /usr/local/lib/python3.7/dist-packages (from requests->deep-translator) (3.0.4)\n",
            "Installing collected packages: deep-translator\n",
            "Successfully installed deep-translator-1.5.0\n"
          ],
          "name": "stdout"
        }
      ]
    },
    {
      "cell_type": "code",
      "metadata": {
        "id": "czONEzqwy-V1"
      },
      "source": [
        "import requests\n",
        "from bs4 import BeautifulSoup\n",
        "from urllib.request import urlopen\n",
        "from deep_translator import GoogleTranslator\n",
        "import re\n",
        "import pandas as pd\n",
        "import os\n",
        "import urllib.request\n",
        "import time"
      ],
      "execution_count": null,
      "outputs": []
    },
    {
      "cell_type": "code",
      "metadata": {
        "colab": {
          "base_uri": "https://localhost:8080/"
        },
        "id": "0tHDu_3AnpFe",
        "outputId": "10d0fec3-8a0b-4e4c-e144-452726ccf052"
      },
      "source": [
        "#Liste des pays\n",
        "countrieslinks = []\n",
        "aTags = BeautifulSoup(requests.get(\"https://www.worldometers.info/coronavirus/#countries\").content, 'html.parser').find('table', {'id': 'main_table_countries_today'}).find('tbody').findAll('a', {'class': 'mt_a'})\n",
        "for a in aTags:\n",
        "  countrieslinks.append(f\"Insert ==> {a['href'][a['href'].index('/')+1:-1]} <== for: {a.text}\")\n",
        "\n",
        "\n",
        "paysTarget = input('Enter country name: ')\n",
        "try:\n",
        "  soup = BeautifulSoup(requests.get('https://www.worldometers.info/coronavirus/country/'+paysTarget).content , 'html.parser')\n",
        "  dates = []\n",
        "  cases = []\n",
        "  r = soup.find('div', {'class': 'news_date'})\n",
        "  if r != None:\n",
        "    dates.append(re.sub(r'\\s+', ' ', re.sub(r'\\[[0-9]*\\]', ' ', r.text.replace(' (GMT)', ''))))\n",
        "\n",
        "    for i in soup.findAll('button',{'class':'btn btn-light date-btn'}):\n",
        "        dates.append(re.sub(r'\\[[0-9]*\\]', ' ', re.sub(r'\\s+', ' ', i.text)))\n",
        "    cases=[]\n",
        "    cases.append(re.sub(r'\\s+', ' ', re.sub(r'\\[[0-9]*\\]', ' ', r.find_next_sibling('div').findChild('li', {'class': 'news_li'}, recursive=True).text)))\n",
        "    for i in soup.findAll('div',{'class':'newsdate_div'}):\n",
        "        cases.append(re.sub(r'\\s+', ' ', re.sub(r'\\[[0-9]*\\]', ' ', i.text)))\n",
        "    cases = [e[:e.index('in')-1].replace('Updates ','') for e in cases]\n",
        "    cases = [GoogleTranslator(source='en', target='fr').translate(e) for e in cases]\n",
        "    dates = [GoogleTranslator(source='en', target='fr').translate(e) for e in dates]\n",
        "    corona = [[i,j] for i,j in zip(dates,cases)]\n",
        "  else:\n",
        "    raise Exception(\"Country not in list!\")\n",
        "except Exception as ex:\n",
        "  print(ex, '\\nTo know what to put check ==> countrieslinks <== variable!')\n",
        "coronaDict = {\n",
        "    \"date\": dates,\n",
        "    \"nouveaux_cas\": [e.split('et')[0].strip() for e in cases],\n",
        "    \"nouveaux_deces\": [e.split('et')[1].strip() for e in cases]\n",
        "}"
      ],
      "execution_count": null,
      "outputs": [
        {
          "output_type": "stream",
          "text": [
            "Enter country name: Tunisia\n"
          ],
          "name": "stdout"
        }
      ]
    },
    {
      "cell_type": "code",
      "metadata": {
        "colab": {
          "base_uri": "https://localhost:8080/",
          "height": 266
        },
        "id": "qaw9_P4dW6rG",
        "outputId": "8f8c0d60-3d3f-4492-f31d-641adcc63847"
      },
      "source": [
        "df = pd.DataFrame(coronaDict)\n",
        "df"
      ],
      "execution_count": null,
      "outputs": [
        {
          "output_type": "execute_result",
          "data": {
            "text/html": [
              "<div>\n",
              "<style scoped>\n",
              "    .dataframe tbody tr th:only-of-type {\n",
              "        vertical-align: middle;\n",
              "    }\n",
              "\n",
              "    .dataframe tbody tr th {\n",
              "        vertical-align: top;\n",
              "    }\n",
              "\n",
              "    .dataframe thead th {\n",
              "        text-align: right;\n",
              "    }\n",
              "</style>\n",
              "<table border=\"1\" class=\"dataframe\">\n",
              "  <thead>\n",
              "    <tr style=\"text-align: right;\">\n",
              "      <th></th>\n",
              "      <th>date</th>\n",
              "      <th>nouveaux_cas</th>\n",
              "      <th>nouveaux_deces</th>\n",
              "    </tr>\n",
              "  </thead>\n",
              "  <tbody>\n",
              "    <tr>\n",
              "      <th>0</th>\n",
              "      <td>7 août</td>\n",
              "      <td>2 909 nouveaux cas</td>\n",
              "      <td>130 nouveaux décès</td>\n",
              "    </tr>\n",
              "    <tr>\n",
              "      <th>1</th>\n",
              "      <td>6 août</td>\n",
              "      <td>2 448 nouveaux cas</td>\n",
              "      <td>129 nouveaux décès</td>\n",
              "    </tr>\n",
              "    <tr>\n",
              "      <th>2</th>\n",
              "      <td>5 août</td>\n",
              "      <td>3 163 nouveaux cas</td>\n",
              "      <td>140 nouveaux décès</td>\n",
              "    </tr>\n",
              "    <tr>\n",
              "      <th>3</th>\n",
              "      <td>4 août</td>\n",
              "      <td>2 819 nouveaux cas</td>\n",
              "      <td>184 nouveaux décès</td>\n",
              "    </tr>\n",
              "    <tr>\n",
              "      <th>4</th>\n",
              "      <td>3 août</td>\n",
              "      <td>1 243 nouveaux cas</td>\n",
              "      <td>159 nouveaux décès</td>\n",
              "    </tr>\n",
              "    <tr>\n",
              "      <th>5</th>\n",
              "      <td>2 août</td>\n",
              "      <td>2 651 nouveaux cas</td>\n",
              "      <td>209 nouveaux décès</td>\n",
              "    </tr>\n",
              "    <tr>\n",
              "      <th>6</th>\n",
              "      <td>1 août</td>\n",
              "      <td>3 316 nouveaux cas</td>\n",
              "      <td>172 nouveaux décès</td>\n",
              "    </tr>\n",
              "  </tbody>\n",
              "</table>\n",
              "</div>"
            ],
            "text/plain": [
              "     date        nouveaux_cas      nouveaux_deces\n",
              "0  7 août  2 909 nouveaux cas  130 nouveaux décès\n",
              "1  6 août  2 448 nouveaux cas  129 nouveaux décès\n",
              "2  5 août  3 163 nouveaux cas  140 nouveaux décès\n",
              "3  4 août  2 819 nouveaux cas  184 nouveaux décès\n",
              "4  3 août  1 243 nouveaux cas  159 nouveaux décès\n",
              "5  2 août  2 651 nouveaux cas  209 nouveaux décès\n",
              "6  1 août  3 316 nouveaux cas  172 nouveaux décès"
            ]
          },
          "metadata": {
            "tags": []
          },
          "execution_count": 7
        }
      ]
    },
    {
      "cell_type": "code",
      "metadata": {
        "colab": {
          "background_save": true
        },
        "id": "SZN4YmCqcXZ8"
      },
      "source": [
        "df.to_json('coronaCases.json', orient='records', lines=True, force_ascii=False)"
      ],
      "execution_count": null,
      "outputs": []
    },
    {
      "cell_type": "code",
      "metadata": {
        "colab": {
          "background_save": true
        },
        "id": "1OUv4IzuRMGh"
      },
      "source": [
        ""
      ],
      "execution_count": null,
      "outputs": []
    },
    {
      "cell_type": "code",
      "metadata": {
        "colab": {
          "background_save": true
        },
        "id": "3fqH8DxdVE55"
      },
      "source": [
        ""
      ],
      "execution_count": null,
      "outputs": []
    }
  ]
}